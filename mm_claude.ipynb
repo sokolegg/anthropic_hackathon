{
 "cells": [
  {
   "cell_type": "code",
   "execution_count": 1,
   "metadata": {},
   "outputs": [
    {
     "name": "stdout",
     "output_type": "stream",
     "text": [
      "Collecting anthropic\n",
      "  Downloading anthropic-0.45.2-py3-none-any.whl.metadata (23 kB)\n",
      "Requirement already satisfied: anyio<5,>=3.5.0 in /Users/gaydmi/miniconda3/envs/docling_main/lib/python3.11/site-packages (from anthropic) (4.8.0)\n",
      "Collecting distro<2,>=1.7.0 (from anthropic)\n",
      "  Using cached distro-1.9.0-py3-none-any.whl.metadata (6.8 kB)\n",
      "Requirement already satisfied: httpx<1,>=0.23.0 in /Users/gaydmi/miniconda3/envs/docling_main/lib/python3.11/site-packages (from anthropic) (0.28.1)\n",
      "Collecting jiter<1,>=0.4.0 (from anthropic)\n",
      "  Downloading jiter-0.8.2-cp311-cp311-macosx_11_0_arm64.whl.metadata (5.2 kB)\n",
      "Requirement already satisfied: pydantic<3,>=1.9.0 in /Users/gaydmi/miniconda3/envs/docling_main/lib/python3.11/site-packages (from anthropic) (2.10.6)\n",
      "Requirement already satisfied: sniffio in /Users/gaydmi/miniconda3/envs/docling_main/lib/python3.11/site-packages (from anthropic) (1.3.1)\n",
      "Requirement already satisfied: typing-extensions<5,>=4.10 in /Users/gaydmi/miniconda3/envs/docling_main/lib/python3.11/site-packages (from anthropic) (4.12.2)\n",
      "Requirement already satisfied: idna>=2.8 in /Users/gaydmi/miniconda3/envs/docling_main/lib/python3.11/site-packages (from anyio<5,>=3.5.0->anthropic) (3.10)\n",
      "Requirement already satisfied: certifi in /Users/gaydmi/miniconda3/envs/docling_main/lib/python3.11/site-packages (from httpx<1,>=0.23.0->anthropic) (2024.12.14)\n",
      "Requirement already satisfied: httpcore==1.* in /Users/gaydmi/miniconda3/envs/docling_main/lib/python3.11/site-packages (from httpx<1,>=0.23.0->anthropic) (1.0.7)\n",
      "Requirement already satisfied: h11<0.15,>=0.13 in /Users/gaydmi/miniconda3/envs/docling_main/lib/python3.11/site-packages (from httpcore==1.*->httpx<1,>=0.23.0->anthropic) (0.14.0)\n",
      "Requirement already satisfied: annotated-types>=0.6.0 in /Users/gaydmi/miniconda3/envs/docling_main/lib/python3.11/site-packages (from pydantic<3,>=1.9.0->anthropic) (0.7.0)\n",
      "Requirement already satisfied: pydantic-core==2.27.2 in /Users/gaydmi/miniconda3/envs/docling_main/lib/python3.11/site-packages (from pydantic<3,>=1.9.0->anthropic) (2.27.2)\n",
      "Downloading anthropic-0.45.2-py3-none-any.whl (222 kB)\n",
      "Using cached distro-1.9.0-py3-none-any.whl (20 kB)\n",
      "Downloading jiter-0.8.2-cp311-cp311-macosx_11_0_arm64.whl (311 kB)\n",
      "Installing collected packages: jiter, distro, anthropic\n",
      "Successfully installed anthropic-0.45.2 distro-1.9.0 jiter-0.8.2\n"
     ]
    }
   ],
   "source": [
    "!pip install anthropic"
   ]
  },
  {
   "cell_type": "code",
   "execution_count": 4,
   "metadata": {},
   "outputs": [
    {
     "name": "stdout",
     "output_type": "stream",
     "text": [
      "Researching the doc \"Code de commerce: Chapitre III - Des obligations générales des commerçants (Articles L123-1 à L123-57)\" on Legifrance.gouv.fr, focusing on sections about commercial registry management and registration effects.\n"
     ]
    }
   ],
   "source": [
    "import anthropic\n",
    "import base64\n",
    "import os\n",
    "\n",
    "api_key = os.getenv(\"ANTHROPIC_API_KEY\")\n",
    "if not api_key:\n",
    "    raise ValueError(\"ANTHROPIC_API_KEY environment variable is not set\")\n",
    "client = anthropic.Client(api_key=api_key)\n",
    "# Support sending images with the message\n",
    "# Example with a local image file\n",
    "with open(\"docs/3.png\", \"rb\") as f:\n",
    "    image_data = base64.b64encode(f.read()).decode('utf-8')\n",
    "    \n",
    "message = \"\"\"\n",
    "You are a professional screenshot analyzer for lawyers. \n",
    "Could you, please, say, what site is visited on this screenshot and summarize a user activity.\n",
    "Write only summary of the activity in a form of \n",
    "\"Reserching the doc \"Name of the doc, article\" or \"writing the note on \"name of the case\".\n",
    "\"\"\"\n",
    "\n",
    "# Send a message to Claude with both text and image\n",
    "response = client.messages.create(\n",
    "    model=\"claude-3-5-sonnet-20241022\",\n",
    "    max_tokens=1000,\n",
    "    temperature=0.7,\n",
    "    messages=[\n",
    "        {\n",
    "            \"role\": \"user\",\n",
    "            \"content\": [\n",
    "                {\"type\": \"text\", \"text\": message},\n",
    "                {\n",
    "                    \"type\": \"image\",\n",
    "                    \"source\": {\n",
    "                        \"type\": \"base64\",\n",
    "                        \"media_type\": \"image/png\",\n",
    "                        \"data\": image_data\n",
    "                    }\n",
    "                }\n",
    "            ]\n",
    "        }\n",
    "    ]\n",
    ")\n",
    "\n",
    "\n",
    "# Print Claude's response\n",
    "print(response.content[0].text)"
   ]
  },
  {
   "cell_type": "code",
   "execution_count": 9,
   "metadata": {},
   "outputs": [
    {
     "name": "stdout",
     "output_type": "stream",
     "text": [
      "<summary>\n",
      "Action: Reading section III of the French Commercial Code regarding general obligations of merchants (Articles L123-1 to L123-57)\n",
      "</summary>\n"
     ]
    }
   ],
   "source": [
    "from bs4 import BeautifulSoup\n",
    "\n",
    "system_prompt = \"\"\"\n",
    "You are an AI assistant tasked with summarizing what a lawyer is currently doing based on the HTML content of the page they are viewing. Your goal is to provide a brief, concise summary in the format: \"Action: [brief description]\".\n",
    "Analyze the HTML content and follow these steps:\n",
    "\n",
    "1. Look for key indicators of the lawyer's activity, such as:\n",
    "   - Page title or header\n",
    "   - Document names or case names\n",
    "   - Article titles\n",
    "   - Names of individuals or organizations\n",
    "   - Keywords related to legal activities (e.g., \"research\", \"brief\", \"motion\", \"deposition\")\n",
    "\n",
    "2. Based on these indicators, determine the most likely activity the lawyer is engaged in. Common activities might include:\n",
    "   - Researching a case\n",
    "   - Writing a legal document\n",
    "   - Reviewing case materials\n",
    "   - Preparing for a call or meeting\n",
    "\n",
    "3. Summarize the activity in a brief phrase, following this format:\n",
    "   - For case research: \"Researching case '[case name]'\"\n",
    "   - For article reading: \"Reading article '[article title]'\"\n",
    "   - For document writing: \"Writing [document type] for '[case or client name]'\"\n",
    "   - For call preparation: \"Preparing for call with '[individual or organization name]'\"\n",
    "\n",
    "4. If the specific activity is unclear, use a more general description, such as \"Reviewing legal materials\" or \"Accessing case information\".\n",
    "\n",
    "Provide your summary in the following format:\n",
    "\n",
    "<summary>\n",
    "Action: [Your brief description of the lawyer's activity]\n",
    "</summary>\n",
    "\n",
    "Remember to keep the summary concise and focused on the main activity indicated by the HTML content. Do not include any additional explanations or details outside of the <summary> tags.\n",
    "\"\"\"\n",
    "# Read HTML content from file\n",
    "with open(\"docs/1.html\", \"r\", encoding=\"utf-8\") as f:\n",
    "    HTML_CONTENT = f.read()\n",
    "\n",
    "user_prompt = \"\"\"Here is the HTML content of the page the lawyer is currently viewing:\n",
    "<html_content>\n",
    "{{HTML_CONTENT}}\n",
    "</html_content>\n",
    "\"\"\"\n",
    "# Parse HTML with BeautifulSoup\n",
    "soup = BeautifulSoup(HTML_CONTENT, 'html.parser')\n",
    "\n",
    "# Remove script and style elements\n",
    "for script in soup([\"script\", \"style\"]):\n",
    "    script.decompose()\n",
    "\n",
    "# Remove comments\n",
    "#for comment in soup.find_all(string=lambda text: isinstance(text, Comment)):\n",
    "#    comment.extract()\n",
    "\n",
    "# Get text content\n",
    "HTML_CONTENT = soup.get_text(strip=True)\n",
    "# Send message to Claude with prompts and image\n",
    "#user_prompt = user_prompt.replace(\"{{HTML_CONTENT}}\", HTML_CONTENT)\n",
    "user_prompt = user_prompt.replace(\"{{HTML_CONTENT}}\", HTML_CONTENT)\n",
    "response = client.messages.create(\n",
    "    model=\"claude-3-5-sonnet-20241022\",\n",
    "    max_tokens=1000,\n",
    "    temperature=0.7,\n",
    "    system=system_prompt,\n",
    "    messages=[\n",
    "        {\n",
    "            \"role\": \"user\",\n",
    "            \"content\": [\n",
    "                {\"type\": \"text\", \"text\": user_prompt},\n",
    "            ]\n",
    "        }\n",
    "    ]\n",
    ")\n",
    "     \n",
    "\n",
    "# Print Claude's response \n",
    "print(response.content[0].text)"
   ]
  },
  {
   "cell_type": "code",
   "execution_count": null,
   "metadata": {},
   "outputs": [],
   "source": []
  }
 ],
 "metadata": {
  "kernelspec": {
   "display_name": "docling_main",
   "language": "python",
   "name": "python3"
  },
  "language_info": {
   "codemirror_mode": {
    "name": "ipython",
    "version": 3
   },
   "file_extension": ".py",
   "mimetype": "text/x-python",
   "name": "python",
   "nbconvert_exporter": "python",
   "pygments_lexer": "ipython3",
   "version": "3.11.11"
  }
 },
 "nbformat": 4,
 "nbformat_minor": 2
}
